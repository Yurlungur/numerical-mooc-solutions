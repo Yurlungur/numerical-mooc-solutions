{
 "metadata": {
  "name": "",
  "signature": "sha256:eef575aa7d2ad9def15126953f9e43b06a2c164528b4819ca6d8192b18abbfc0"
 },
 "nbformat": 3,
 "nbformat_minor": 0,
 "worksheets": [
  {
   "cells": [
    {
     "cell_type": "code",
     "collapsed": false,
     "input": [
      "import numpy\n",
      "from matplotlib import pyplot\n",
      "%matplotlib inline\n",
      "from matplotlib import rcParams\n",
      "rcParams['font.family'] = 'serif'\n",
      "rcParams['font.size'] = 16\n",
      "from JSAnimation.IPython_display import display_animation\n",
      "from matplotlib import animation"
     ],
     "language": "python",
     "metadata": {},
     "outputs": [],
     "prompt_number": 1
    },
    {
     "cell_type": "code",
     "collapsed": false,
     "input": [
      "# Constants\n",
      "nx = 81\n",
      "dx = 0.25\n",
      "dt = 0.0002\n",
      "gamma = 1.4 # adiabatic index \n",
      "\n",
      "# initial data\n",
      "RHO_L = 1. #kg/m^3\n",
      "U_L = 0. # m/s\n",
      "P_L = 100000. # N/m^2\n",
      "# right initial data\n",
      "RHO_R = 0.125 # kg/m^3\n",
      "U_R = 0. # m/s\n",
      "P_R = 10000. # N/m^2\n",
      "XMIN=-10 # m\n",
      "XMAX = 10 # m\n",
      "X_0 = 0 # m, point where the membrane is at t = 0\n",
      "\n",
      "# The left primitive vector\n",
      "V_PL = numpy.array([RHO_L,U_L,P_L])\n",
      "# The right primitive vector\n",
      "V_PR = numpy.array([RHO_R,U_R,P_R])"
     ],
     "language": "python",
     "metadata": {},
     "outputs": [],
     "prompt_number": 2
    },
    {
     "cell_type": "markdown",
     "metadata": {},
     "source": [
      "We define two vectors, a primitive vector v_primitive and a conserved vector v_conserved. The primitive vector contains rho, u, and p, while the conserved vector contains rho,rho u,rho e_T, where e_T is the total energy given by the equation of state."
     ]
    },
    {
     "cell_type": "heading",
     "level": 2,
     "metadata": {},
     "source": [
      "Preliminaries"
     ]
    },
    {
     "cell_type": "markdown",
     "metadata": {},
     "source": [
      "First we need to define maps from the pimitive to the conserved variables, and vice versa. "
     ]
    },
    {
     "cell_type": "code",
     "collapsed": false,
     "input": [
      "def get_p(v_conserved):\n",
      "    \"\"\"\n",
      "    Returns the pressure as a function of the \n",
      "    conserved vector.\n",
      "    \"\"\"\n",
      "    v = v_conserved # for convenience\n",
      "    return (gamma-1)*(v[2]-0.5*(v[1]**2)/v[0])"
     ],
     "language": "python",
     "metadata": {},
     "outputs": [],
     "prompt_number": 3
    },
    {
     "cell_type": "code",
     "collapsed": false,
     "input": [
      "def get_e_T(v_primitive):\n",
      "    \"\"\"\n",
      "    Returns the energy as a function of the primitive vector\n",
      "    \"\"\"\n",
      "    rho = v_primitive[0]\n",
      "    u = v_primitive[1]\n",
      "    p = v_primitive[2]\n",
      "    e = p / ((gamma - 1)*rho)\n",
      "    e_T = e + 0.5 * (u**2)\n",
      "    return e_T"
     ],
     "language": "python",
     "metadata": {},
     "outputs": [],
     "prompt_number": 4
    },
    {
     "cell_type": "code",
     "collapsed": false,
     "input": [
      "def get_conserved(v_primitive):\n",
      "    \"\"\"\n",
      "    Returns the conserved vector \n",
      "    based on the primitive vector\n",
      "    \"\"\"\n",
      "    rho = v_primitive[0]\n",
      "    u = v_primitive[1]\n",
      "    p = v_primitive[2]\n",
      "    e_T = get_e_T(v_primitive)\n",
      "    return numpy.array([rho,rho*u,rho*e_T])"
     ],
     "language": "python",
     "metadata": {},
     "outputs": [],
     "prompt_number": 5
    },
    {
     "cell_type": "code",
     "collapsed": false,
     "input": [
      "def get_primitive(v_conserved):\n",
      "    \"\"\"\n",
      "    Returns the vector of primitive variables as a \n",
      "    function of the conserved variables.\n",
      "    \"\"\"\n",
      "    rho = v_conserved[0]\n",
      "    u = v_conserved[1]/rho\n",
      "    e_T = v_conserved[2]/rho\n",
      "    p = get_p(v_conserved)\n",
      "    return numpy.array([rho,u,p])"
     ],
     "language": "python",
     "metadata": {},
     "outputs": [],
     "prompt_number": 6
    },
    {
     "cell_type": "markdown",
     "metadata": {},
     "source": [
      "We also compute the flux"
     ]
    },
    {
     "cell_type": "code",
     "collapsed": false,
     "input": [
      "def flux_of_primitive(v_primitive):\n",
      "    \"\"\"\n",
      "    Computes the flux as a function of the primitive vector.\n",
      "    \"\"\"\n",
      "    rho = v_primitive[0]\n",
      "    u = v_primitive[1]\n",
      "    p = v_primitive[2]\n",
      "    e_T = get_e_T(v_primitive)\n",
      "    return numpy.array([rho*u,\n",
      "                        rho*u*u+p,\n",
      "                        u*(rho*e_T+p)])"
     ],
     "language": "python",
     "metadata": {},
     "outputs": [],
     "prompt_number": 7
    },
    {
     "cell_type": "code",
     "collapsed": false,
     "input": [
      "def compute_flux(v_conserved):\n",
      "    \"\"\"\n",
      "    Computes the flux as a function of the \n",
      "    conserved variables.\n",
      "    \"\"\"\n",
      "    v = v_conserved\n",
      "    out = numpy.empty_like(v)\n",
      "    out[0] = v[1]\n",
      "    out[1] = ((v[1]**2)/v[0] \n",
      "              + (gamma - 1)*(v[2] - 0.5*v[1]*v[1]/v[0]))\n",
      "    out[2] = (v[2]\n",
      "              + (gamma-1)*(v[2] - 0.5*v[1]*v[1]/v[0]))*(v[1]/v[0])\n",
      "    return out"
     ],
     "language": "python",
     "metadata": {},
     "outputs": [],
     "prompt_number": 8
    },
    {
     "cell_type": "heading",
     "level": 2,
     "metadata": {},
     "source": [
      "Now we define the initial data."
     ]
    },
    {
     "cell_type": "code",
     "collapsed": false,
     "input": [
      "x = numpy.linspace(XMIN,XMAX,nx)"
     ],
     "language": "python",
     "metadata": {},
     "outputs": [],
     "prompt_number": 9
    },
    {
     "cell_type": "code",
     "collapsed": false,
     "input": [
      "def get_v0_primitive(x):\n",
      "    \"\"\"\n",
      "    Returns the initial data as a function of x in \n",
      "    primitive form.\n",
      "    \"\"\"\n",
      "    if x < X_0:\n",
      "        return V_PL\n",
      "    else: \n",
      "        return V_PR"
     ],
     "language": "python",
     "metadata": {},
     "outputs": [],
     "prompt_number": 10
    },
    {
     "cell_type": "code",
     "collapsed": false,
     "input": [
      "def richtmyer_step(v0,dt,dx):\n",
      "    \"\"\"\n",
      "    steps v0 forward one step in time \n",
      "    and returns the new solution\n",
      "    \"\"\"\n",
      "    v_out = numpy.empty_like(v0)\n",
      "    v_half = numpy.empty_like(v0)\n",
      "    flux = numpy.array(map(compute_flux,v0))\n",
      "    v_half[:-1] = 0.5 * ((v0[:-1] + v0[1:])\n",
      "                         - (dt/dx)*(flux[1:]-flux[:-1]))\n",
      "    v_half[-1] = v0[-1]\n",
      "    flux_half = numpy.array(map(compute_flux,v_half))\n",
      "    v_out[1:] = (v0[1:]\n",
      "                 - (dt/dx)*(flux_half[1:]-flux_half[:-1]))\n",
      "    v_out[0] = v0[0]    # dirichlet boundary conditions\n",
      "    v_out[-1] = v0[-1]\n",
      "    return v_out    "
     ],
     "language": "python",
     "metadata": {},
     "outputs": [],
     "prompt_number": 11
    },
    {
     "cell_type": "code",
     "collapsed": false,
     "input": [
      "def richtmyer(v0,nt,dt,dx):\n",
      "    \"\"\"\n",
      "    Computes the solution for the conserved variables\n",
      "    with a Richtmyer scheme. \n",
      "    \n",
      "    INPUTS\n",
      "    -------\n",
      "    v0 is the initial conserved vector\n",
      "    nt is the number of times \n",
      "    dt is the change in time per time step\n",
      "    dx is the change in space per grid point\n",
      "    \n",
      "    OUTPUTS\n",
      "    --------\n",
      "    times, a one-dimensional array of hte times \n",
      "            (initial time is assumed to be zero)\n",
      "    v_n,   a matrix where each row is the v_conserved \n",
      "           solution at a given time.\n",
      "    \"\"\"\n",
      "    # initialize our arrays\n",
      "    v_n = numpy.zeros((nt,\n",
      "                       v0.shape[0],\n",
      "                       v0.shape[1]))\n",
      "    times = numpy.zeros(nt)\n",
      "    v_n[0] = v0.copy()\n",
      "    times[0] = 0.\n",
      "\n",
      "    # main loop\n",
      "    for i in range(1,nt):\n",
      "        v_n[i] = richtmyer_step(v_n[i-1],dt,dx)\n",
      "        times[i] = times[i-1] + dt\n",
      "    \n",
      "    # output\n",
      "    return times, v_n"
     ],
     "language": "python",
     "metadata": {},
     "outputs": [],
     "prompt_number": 12
    },
    {
     "cell_type": "code",
     "collapsed": false,
     "input": [
      "v0_primitive = numpy.array(map(get_v0_primitive,x))\n",
      "v0_conserved = numpy.array(map(get_conserved,v0_primitive))\n",
      "nt = int(.01/dt)+1\n",
      "nt"
     ],
     "language": "python",
     "metadata": {},
     "outputs": [
      {
       "metadata": {},
       "output_type": "pyout",
       "prompt_number": 17,
       "text": [
        "51"
       ]
      }
     ],
     "prompt_number": 17
    },
    {
     "cell_type": "code",
     "collapsed": false,
     "input": [
      "times,v_n = richtmyer(v0_conserved,nt,dt,dx)"
     ],
     "language": "python",
     "metadata": {},
     "outputs": [],
     "prompt_number": 18
    },
    {
     "cell_type": "code",
     "collapsed": false,
     "input": [
      "v_np = numpy.empty_like(v_n)\n",
      "flux_np = numpy.empty_like(v_n)\n",
      "for i in range(nt):\n",
      "    v_np[i] = numpy.array(map(get_primitive,v_n[i]))\n",
      "    flux_np[i] = numpy.array(map(compute_flux,v_n[i]))"
     ],
     "language": "python",
     "metadata": {},
     "outputs": [],
     "prompt_number": 19
    },
    {
     "cell_type": "code",
     "collapsed": false,
     "input": [
      "rho_n = v_np[...,...,0]\n",
      "u_n = v_np[...,...,1]\n",
      "p_n = v_np[...,...,2]"
     ],
     "language": "python",
     "metadata": {},
     "outputs": [],
     "prompt_number": 20
    },
    {
     "cell_type": "code",
     "collapsed": false,
     "input": [
      "pyplot.plot(x,p_n[50])"
     ],
     "language": "python",
     "metadata": {},
     "outputs": [
      {
       "metadata": {},
       "output_type": "pyout",
       "prompt_number": 23,
       "text": [
        "[<matplotlib.lines.Line2D at 0x7f43370a39d0>]"
       ]
      },
      {
       "metadata": {},
       "output_type": "display_data",
       "png": "[encoded data removed]",
       "text": [
        "<matplotlib.figure.Figure at 0x7f4337119890>"
       ]
      }
     ],
     "prompt_number": 23
    },
    {
     "cell_type": "code",
     "collapsed": false,
     "input": [
      "numpy.where(x==2.5)"
     ],
     "language": "python",
     "metadata": {},
     "outputs": [
      {
       "metadata": {},
       "output_type": "pyout",
       "prompt_number": 26,
       "text": [
        "(array([50]),)"
       ]
      }
     ],
     "prompt_number": 26
    },
    {
     "cell_type": "code",
     "collapsed": false,
     "input": [
      "x[50],times[-1]"
     ],
     "language": "python",
     "metadata": {},
     "outputs": [
      {
       "metadata": {},
       "output_type": "pyout",
       "prompt_number": 25,
       "text": [
        "(2.5, 0.01)"
       ]
      }
     ],
     "prompt_number": 25
    },
    {
     "cell_type": "code",
     "collapsed": false,
     "input": [
      "v_np[-1,50]"
     ],
     "language": "python",
     "metadata": {},
     "outputs": [
      {
       "metadata": {},
       "output_type": "pyout",
       "prompt_number": 30,
       "text": [
        "array([  3.74691403e-01,   2.92611472e+02,   3.02508902e+04])"
       ]
      }
     ],
     "prompt_number": 30
    },
    {
     "cell_type": "code",
     "collapsed": false,
     "input": [],
     "language": "python",
     "metadata": {},
     "outputs": []
    }
   ],
   "metadata": {}
  }
 ]
}