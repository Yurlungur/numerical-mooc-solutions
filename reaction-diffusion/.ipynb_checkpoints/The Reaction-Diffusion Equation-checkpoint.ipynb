{
 "metadata": {
  "name": "",
  "signature": "sha256:bb2127663ef0dc707a928156d2a836a8eb59754f091c674fa2142da7c622c2ac"
 },
 "nbformat": 3,
 "nbformat_minor": 0,
 "worksheets": [
  {
   "cells": [
    {
     "cell_type": "heading",
     "level": 1,
     "metadata": {},
     "source": [
      "My Implementation of the Reaction-Diffusion Equation"
     ]
    },
    {
     "cell_type": "markdown",
     "metadata": {},
     "source": [
      "This is a solution to the programming assignment for the fourth lesson in the numerical-mooc course:\n",
      "http://openedx.seas.gwu.edu/courses/GW/MAE6286/2014_fall"
     ]
    },
    {
     "cell_type": "heading",
     "level": 2,
     "metadata": {},
     "source": [
      "The Theory"
     ]
    },
    {
     "cell_type": "markdown",
     "metadata": {},
     "source": [
      "The reaction diffusion equation is given by:\n",
      "\\begin{align}\n",
      "\\frac{\\partial u}{\\partial t} &= D_u \\nabla ^2 u - uv^2 + F(1-u)\\\\\n",
      "\\frac{\\partial v}{\\partial t} &= D_v \\nabla ^2 v + uv^2 - (F + k)v\n",
      "\\end{align}\n",
      "where $D_u$, $D_v$, $F$, and $k$ are constants, $u(x,y,t)$ and $v(x,y,t)$ represent the concentrations of two species of particle $U$ and $V$, and $\\nabla^2$ is of course the Laplacian operator:\n",
      "$$\\nabla^2 = \\frac{\\partial^2}{\\partial x^2} + \\frac{\\partial^2}{\\partial y^2}.$$"
     ]
    },
    {
     "cell_type": "markdown",
     "metadata": {},
     "source": [
      "We discretize $u$ and $v$ to be $u^n_{ij}$ and $v^n_{ij}$, where $i$ represents the $y$ coordinate and $j$ represents the $x$ coordinate, both starting from the lower-left corner. $n$ represents the index of time, starting from zero. We use forward time, central space. This means we get:\n",
      "\\begin{align}\n",
      "\\frac{u_{ij}^{n+1} - u_{ij}^n}{\\Delta t} = \\frac{D_u}{\\delta^2}\\left[\\left(u^n_{i(j+1)} - 2 u^n_{ij} + u^n_{i(j-1)}\\right) + \\left(u^n_{(i+1)j} - 2 u^n_{ij} + u^n_{(i-1)j}\\right)\\right] - u^n_{ij} (v^n_{ij})^2 + F(1-u^n_{ij})\\\\\n",
      "\\frac{v_{ij}^{n+1} - v_{ij}^n}{\\Delta t} = \\frac{D_v}{\\delta^2}\\left[\\left(v^n_{i(j+1)} - 2 v^n_{ij} + v^n_{i(j-1)}\\right) + \\left(v^n_{(i+1)j} - 2 v^n_{ij} + v^n_{(i-1)j}\\right)\\right] + u_{ij}^n (v_{ij}^n)^2 - (F+k)v_{ij}^n,\n",
      "\\end{align}\n",
      "where $\\delta = \\Delta x = \\Delta y.$"
     ]
    },
    {
     "cell_type": "markdown",
     "metadata": {},
     "source": [
      "Or, \n",
      "\\begin{align}\n",
      "u_{ij}^{n+1} = u_{ij}^n + \\Delta t\\left\\{\\frac{D_u}{\\delta^2}\\left[\\left(u^n_{i(j+1)} - 2 u^n_{ij} + u^n_{i(j-1)}\\right) + \\left(u^n_{(i+1)j} - 2 u^n_{ij} + u^n_{(i-1)j}\\right)\\right] - u^n_{ij} (v^n_{ij})^2 + F(1-u^n_{ij})\\right\\}\\\\\n",
      "v_{ij}^{n+1} = v_{ij}^n + \\Delta t\\left\\{\\frac{D_v}{\\delta^2}\\left[\\left(v^n_{i(j+1)} - 2 v^n_{ij} + v^n_{i(j-1)}\\right) + \\left(v^n_{(i+1)j} - 2 v^n_{ij} + v^n_{(i-1)j}\\right)\\right] + u_{ij}^n (v_{ij}^n)^2 - (F+k)v_{ij}^n\\right\\}.\n",
      "\\end{align}\n",
      "And we define \n",
      "$$\\Delta t = \\frac{9}{40} \\frac{\\delta^2}{\\text{max}(D_u,D_v)}.$$"
     ]
    },
    {
     "cell_type": "markdown",
     "metadata": {},
     "source": [
      "We impose von-Neumann boundary conditions and demand zero flux on all boundaries. This means that:\n",
      "\\begin{align}\n",
      "u^n_{i0} = u^n_{i1}\\ \\forall\\ i\\\\\n",
      "v^n_{i0} = v^n_{i1}\\ \\forall\\ i\\\\\n",
      "u^n_{0j} = u^n_{1j}\\ \\forall\\ j\\\\\n",
      "v^n_{0j} = v^n_{1j}\\ \\forall\\ j\\\\\n",
      "u^n_{i(nx-1)} = u^n_{i(nx-2)}\\ \\forall\\ i\\\\\n",
      "v^n_{i(nx-1)} = v^n_{i(nx-2)}\\ \\forall\\ i\\\\\n",
      "u^n_{(ny-1)j} = u^n_{(ny-2)j}\\ \\forall\\ j\\\\\n",
      "v^n_{(ny-1)j} = v^n_{(ny-2)j}\\ \\forall\\ j\n",
      "\\end{align}"
     ]
    },
    {
     "cell_type": "heading",
     "level": 2,
     "metadata": {},
     "source": [
      "The Code"
     ]
    },
    {
     "cell_type": "heading",
     "level": 3,
     "metadata": {},
     "source": [
      "Preliminaries"
     ]
    },
    {
     "cell_type": "markdown",
     "metadata": {},
     "source": [
      "First we import our libraries"
     ]
    },
    {
     "cell_type": "code",
     "collapsed": false,
     "input": [
      "import numpy\n",
      "from matplotlib import pyplot\n",
      "import matplotlib.cm as cm\n",
      "%matplotlib inline"
     ],
     "language": "python",
     "metadata": {},
     "outputs": [],
     "prompt_number": 3
    },
    {
     "cell_type": "markdown",
     "metadata": {},
     "source": [
      "And the initial data that we've been given."
     ]
    },
    {
     "cell_type": "code",
     "collapsed": false,
     "input": [
      "uvinitial = numpy.load('./data/uvinitial.npz')\n",
      "U = uvinitial['U']\n",
      "V = uvinitial['V']"
     ],
     "language": "python",
     "metadata": {},
     "outputs": [],
     "prompt_number": 4
    },
    {
     "cell_type": "heading",
     "level": 3,
     "metadata": {},
     "source": [
      "Simulation parameters:"
     ]
    },
    {
     "cell_type": "code",
     "collapsed": false,
     "input": [
      "n = 192 # number of points in x and y.\n",
      "Du, Dv, F, k = 0.00016, 0.00008, 0.035, 0.065 # Bacteria 1 \n",
      "dh = 5./(n-1)\n",
      "T = 8000\n",
      "dt = .9 * dh**2 / (4*max(Du,Dv))\n",
      "nt = int(T/dt)"
     ],
     "language": "python",
     "metadata": {},
     "outputs": [],
     "prompt_number": 5
    },
    {
     "cell_type": "heading",
     "level": 3,
     "metadata": {},
     "source": [
      "Grid methods"
     ]
    },
    {
     "cell_type": "markdown",
     "metadata": {},
     "source": [
      "Here we define a number of helper functions that act on the 2d grid function u or v."
     ]
    },
    {
     "cell_type": "code",
     "collapsed": false,
     "input": [
      "def impose_boundary_conditions(species):\n",
      "    \"\"\"\n",
      "    Imposes the boundary conidtions (which are von-Neumann)\n",
      "    on the 2d grid representing the value of the species\n",
      "    on the domain.\n",
      "    \n",
      "    INPUT:\n",
      "    -- species, a 2d array of floats \n",
      "       representing either u or v\n",
      "       at a given time as a function\n",
      "       of space.\n",
      "       \n",
      "    OUTPUT:\n",
      "    -- out, a 2d array of \n",
      "       floats representing species\n",
      "       but with boundary conditions \n",
      "       imposed.\n",
      "    \"\"\"\n",
      "    out = species.copy()\n",
      "    out[...,0] = out[...,1]\n",
      "    out[...,-1] = out[...,-2]\n",
      "    out[0,...] = out[1,...]\n",
      "    out[-1,...] = out[-2,...]\n",
      "    return out"
     ],
     "language": "python",
     "metadata": {},
     "outputs": [],
     "prompt_number": 6
    },
    {
     "cell_type": "code",
     "collapsed": false,
     "input": [
      "def laplacian(species,delta):\n",
      "    \"\"\"\n",
      "    Calculates the laplacian of one of the \n",
      "    species either u or v. \n",
      "    \n",
      "    Does not calculate the boundary points.\n",
      "    These are set by boundary conditions.\n",
      "    \n",
      "    INPUT:\n",
      "    -- species, a 2d array of floats \n",
      "       representing either u or v\n",
      "       at a given time as a function\n",
      "       of space.\n",
      "    --  delta, the distance in x and y\n",
      "        between adjacent grid points.\n",
      "       \n",
      "    OUTPUT:\n",
      "    --  out, a 2d array representing the \n",
      "        Laplacian of the species.\n",
      "    \"\"\"\n",
      "    s = species # convenient shorthand\n",
      "    out = numpy.zeros_like(s)\n",
      "    out[1:-1,1:-1] = ((1./delta)**2)\\\n",
      "    * ((s[1:-1,2:] - 2*s[1:-1,1:-1] + s[1:-1,:-2])# d/dx\n",
      "     + (s[2:,1:-1] - 2*s[1:-1,1:-1] + s[:-2,1:-1])) # d/dy\n",
      "    return out"
     ],
     "language": "python",
     "metadata": {},
     "outputs": [],
     "prompt_number": 7
    },
    {
     "cell_type": "heading",
     "level": 3,
     "metadata": {},
     "source": [
      "And now we define the methods we need for integration"
     ]
    },
    {
     "cell_type": "code",
     "collapsed": false,
     "input": [
      "def get_rhs(u,v,delta):\n",
      "    \"\"\"\n",
      "    Calculates du/dt for use in a \n",
      "    time integrator.\n",
      "    \n",
      "    INPUTS:\n",
      "    --- u, a 2d array of floats\n",
      "        representing u as a function\n",
      "        of space\n",
      "    --- v, a 2d array of floats\n",
      "        representing v as a function\n",
      "        of space\n",
      "    --- delta, distance in space.\n",
      "    \n",
      "    OUTPUTS:\n",
      "    --- u_rhs, the right-hand-side\n",
      "        for u.\n",
      "    --- v_rhs, the right-hand-side\n",
      "        for v.\n",
      "    \"\"\"\n",
      "    u_rhs = Du*laplacian(u,delta) - u*v*v + F*(1-u)\n",
      "    v_rhs = Dv*laplacian(v,delta) + u*v*v - (F+k)*v\n",
      "    return u_rhs,v_rhs"
     ],
     "language": "python",
     "metadata": {},
     "outputs": [],
     "prompt_number": 8
    },
    {
     "cell_type": "code",
     "collapsed": false,
     "input": [
      "def euler_step(u,v,dt,dh):\n",
      "    \"\"\"\n",
      "    Integrates u and v forward by one time step.\n",
      "    \n",
      "    INPUTS:\n",
      "    --- u, the U species as a function of\n",
      "        space. 2D array of floats.\n",
      "    --- v, the V species as a function of\n",
      "        space. 2D array of floats.\n",
      "    --- dt, float. The size of the time\n",
      "        step\n",
      "    --- dh, float. The distance between\n",
      "        adjacent grid points in space.\n",
      "        \n",
      "    OUTPUTS:\n",
      "    --- u_new, 2D array of floats.\n",
      "        u after the time step.\n",
      "    --- v_new, 2D array of floats.\n",
      "        v after the time step.\n",
      "    \"\"\"\n",
      "    u_rhs,v_rhs = get_rhs(u,v,dh)\n",
      "    u_new = impose_boundary_conditions(u + dt*u_rhs)\n",
      "    v_new = impose_boundary_conditions(v + dt*v_rhs)\n",
      "    return u_new,v_new"
     ],
     "language": "python",
     "metadata": {},
     "outputs": [],
     "prompt_number": 9
    },
    {
     "cell_type": "markdown",
     "metadata": {},
     "source": [
      "And the integration method"
     ]
    },
    {
     "cell_type": "code",
     "collapsed": false,
     "input": [
      "def integrate(u_initial,v_initial,dt,dh,nt):\n",
      "    \"\"\"\n",
      "    Uses forward in time, centered inspace algorithm\n",
      "    to integrate u and v from their initial \n",
      "    configurations at time t = 0 to \n",
      "    their final configurations at time\n",
      "    t = nt*dt.\n",
      "    \n",
      "    INPUTS:\n",
      "    --- u_initial, 2D array of floats.\n",
      "        The initial configuration of u.\n",
      "    --- v_initial, 2D array of floats.\n",
      "        The initial configuration of v.\n",
      "    --- dt, the duration of a single time step.\n",
      "    --- dh, the grid spacing in space\n",
      "    --- nt, the number of time steps.\n",
      "    \n",
      "    OUTPUTS:\n",
      "    --- u, array of floats. The solution at\n",
      "        the final time for the U species\n",
      "    --- v, like u but for the V species.\n",
      "    --- t, the final time.\n",
      "    \"\"\"\n",
      "    # initialize arrays\n",
      "    u_old = u_initial.copy()\n",
      "    v_old = v_initial.copy()\n",
      "    t = 0\n",
      "    \n",
      "    # And the loop\n",
      "    for k in range(nt):\n",
      "        u,v = euler_step(u_old,\n",
      "                         v_old,\n",
      "                         dt,dh)\n",
      "        u_old = u.copy()\n",
      "        v_old = v.copy()\n",
      "        t += dt\n",
      "        \n",
      "    return u,v,t"
     ],
     "language": "python",
     "metadata": {},
     "outputs": [],
     "prompt_number": 10
    },
    {
     "cell_type": "code",
     "collapsed": false,
     "input": [
      "u,v,t = integrate(U,V,dt,dh,nt)"
     ],
     "language": "python",
     "metadata": {},
     "outputs": [],
     "prompt_number": 11
    },
    {
     "cell_type": "code",
     "collapsed": false,
     "input": [
      "t"
     ],
     "language": "python",
     "metadata": {},
     "outputs": [
      {
       "metadata": {},
       "output_type": "pyout",
       "prompt_number": 12,
       "text": [
        "7999.562272142468"
       ]
      }
     ],
     "prompt_number": 12
    },
    {
     "cell_type": "code",
     "collapsed": false,
     "input": [
      "nt*dt"
     ],
     "language": "python",
     "metadata": {},
     "outputs": [
      {
       "metadata": {},
       "output_type": "pyout",
       "prompt_number": 15,
       "text": [
        "7999.562272141663"
       ]
      }
     ],
     "prompt_number": 15
    },
    {
     "cell_type": "code",
     "collapsed": false,
     "input": [
      "u[100,::40]"
     ],
     "language": "python",
     "metadata": {},
     "outputs": [
      {
       "metadata": {},
       "output_type": "pyout",
       "prompt_number": 16,
       "text": [
        "array([ 0.92469521,  0.85013834,  0.66815621,  0.90196481,  0.9039502 ])"
       ]
      }
     ],
     "prompt_number": 16
    },
    {
     "cell_type": "code",
     "collapsed": false,
     "input": [],
     "language": "python",
     "metadata": {},
     "outputs": []
    }
   ],
   "metadata": {}
  }
 ]
}